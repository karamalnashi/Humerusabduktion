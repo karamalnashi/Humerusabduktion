{
 "cells": [
  {
   "cell_type": "code",
   "execution_count": 3,
   "metadata": {},
   "outputs": [],
   "source": [
    "import cv2\n",
    "import numpy as np\n",
    "import time\n",
    "import Pose_Module as pm\n",
    "\n",
    "import os\n",
    "\n",
    "\n",
    "path_current= os.path.abspath(os.getcwd())\n",
    "\n",
    "\n",
    "## Reading video\n",
    "\n",
    "cap = cv2.VideoCapture(r\"elbow_flexion.mp4\")\n",
    "#cap = cv2.VideoCapture(0)\n",
    "hasFrame, framee =cap.read()\n",
    "frameeWidth= framee.shape[1]\n",
    "frameeHeight= framee.shape[0]\n",
    "os.path.abspath(os.getcwd())\n",
    "\n",
    "\n",
    "\n",
    "vid_writer= cv2.VideoWriter(path_current+ '\\\\prediction\\hand_angle.avi', cv2.VideoWriter_fourcc('M','J','P','G'),5, (framee.shape[1],framee.shape[0]))\n",
    "detector = pm.poseDetector()\n",
    "count = 0\n",
    "dir = 0\n",
    "pTime = 0\n",
    "while True:\n",
    "    success, img = cap.read()\n",
    "    img = cv2.resize(img, (1280, 720))\n",
    "    # img = cv2.imread(\"AiTrainer/test.jpg\")\n",
    "    img = detector.findPose(img, False)\n",
    "    lmList = detector.findPosition(img, False)\n",
    "    # print(lmList)\n",
    "    if len(lmList) != 0:\n",
    "        # Right Arm\n",
    "        angle,difference = detector.findAngle(img, 12, 14, 16)\n",
    "        \n",
    "        # # Left Arm\n",
    "        #angle = detector.findAngle(img, 11, 13, 15,False)\n",
    "        per = np.interp(angle, (212, 326), (0, 100))\n",
    "        bar = np.interp(angle, (212, 326), (650, 100))\n",
    "        # print(angle, per)\n",
    " \n",
    "        # Check for the curls\n",
    "        color = (255, 0, 255)\n",
    "        if per == 100:\n",
    "            color = (0, 255, 0)\n",
    "            if dir == 0:\n",
    "                count += 0.5\n",
    "                dir = 1\n",
    "        if per == 0:\n",
    "            color = (0, 255, 0)\n",
    "            if dir == 1:\n",
    "                count += 0.5\n",
    "                dir = 0\n",
    "        #print(count)\n",
    " \n",
    "        # Draw Bar\n",
    "        cv2.rectangle(img, (1100, 100), (1175, 650), color, 3)\n",
    "        cv2.rectangle(img, (1100, int(bar)), (1175, 650), color, cv2.FILLED)\n",
    "        cv2.putText(img, f'{int(per)} %', (1100, 75), cv2.FONT_HERSHEY_PLAIN, 4,\n",
    "                    color, 4)\n",
    " \n",
    "        # Draw Curl Count\n",
    "        cv2.rectangle(img, (0, 450), (250, 720), (0, 255, 0), cv2.FILLED)\n",
    "        cv2.putText(img, str(int(count)), (45, 670), cv2.FONT_HERSHEY_PLAIN, 15,\n",
    "                    (255, 0, 0), 25)\n",
    " \n",
    "    cTime = time.time()\n",
    "    fps = 1 / (cTime - pTime)\n",
    "    pTime = cTime\n",
    "    cv2.putText(img, str(int(fps)), (50, 100), cv2.FONT_HERSHEY_PLAIN, 5,\n",
    "                (255, 0, 0), 5)\n",
    "    vid_writer.write(img)\n",
    "    \n",
    "    if difference >0.25:\n",
    "        img = cv2.applyColorMap(img, cv2.COLORMAP_AUTUMN)\n",
    "        cv2.putText(img, str(\"please correct posture\"), (50, 100), cv2.FONT_HERSHEY_PLAIN, 5,\n",
    "                (255, 0, 0), 5)\n",
    "        cv2.imshow(\"Image\", img)\n",
    "        #print(\"PLEASE PRINT difference\",difference)\n",
    "        \n",
    "    else:    \n",
    "        \n",
    "        cv2.imshow(\"Image\", img)\n",
    "    \n",
    "    #cv2.waitKey(1)\n",
    "    \n",
    "\n",
    "    if cv2.waitKey(1) & 0xFF == ord('q'):\n",
    "        break\n",
    "\n",
    "cap.release()\n",
    "cv2.destroyAllWindows()"
   ]
  },
  {
   "cell_type": "code",
   "execution_count": null,
   "metadata": {},
   "outputs": [],
   "source": []
  },
  {
   "cell_type": "code",
   "execution_count": 8,
   "metadata": {},
   "outputs": [
    {
     "name": "stdout",
     "output_type": "stream",
     "text": [
      "193.62,\n",
      "\n"
     ]
    }
   ],
   "source": [
    "## Read text file\n",
    "\n",
    "\n",
    "f = open(r\"../precalibration/angle_file.txt\", \"r\")\n",
    "#print\n",
    "#maximum= max(f)\n",
    "minimum = min(f)\n",
    "#value_max= maximum.replace(',', '')\n",
    "value_min= maximum.replace(',', '')\n",
    "\n",
    "\n",
    "#print(value_max)\n",
    "print(value_min)"
   ]
  },
  {
   "cell_type": "code",
   "execution_count": 9,
   "metadata": {},
   "outputs": [
    {
     "name": "stdout",
     "output_type": "stream",
     "text": [
      "311.85\n",
      "\n"
     ]
    }
   ],
   "source": [
    "## Read text file\n",
    "\n",
    "\n",
    "f = open(r\"../precalibration/angle_file.txt\", \"r\")\n",
    "#print\n",
    "maximum= max(f)\n",
    "value_max= maximum.replace(',', '')\n",
    "\n",
    "\n",
    "print(value_max)\n"
   ]
  },
  {
   "cell_type": "code",
   "execution_count": null,
   "metadata": {},
   "outputs": [],
   "source": []
  }
 ],
 "metadata": {
  "kernelspec": {
   "display_name": "Python 3",
   "language": "python",
   "name": "python3"
  },
  "language_info": {
   "codemirror_mode": {
    "name": "ipython",
    "version": 3
   },
   "file_extension": ".py",
   "mimetype": "text/x-python",
   "name": "python",
   "nbconvert_exporter": "python",
   "pygments_lexer": "ipython3",
   "version": "3.6.7"
  }
 },
 "nbformat": 4,
 "nbformat_minor": 2
}
