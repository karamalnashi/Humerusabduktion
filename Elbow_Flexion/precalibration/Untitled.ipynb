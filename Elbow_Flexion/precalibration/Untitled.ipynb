{
 "cells": [
  {
   "cell_type": "code",
   "execution_count": 1,
   "metadata": {},
   "outputs": [],
   "source": [
    "import cv2\n",
    "import mediapipe as mp\n",
    "\n",
    "import time \n",
    "\n",
    "\n",
    "mpPose = mp.solutions.pose\n",
    "\n"
   ]
  },
  {
   "cell_type": "code",
   "execution_count": 7,
   "metadata": {},
   "outputs": [],
   "source": [
    "pose = mpPose.Pose()\n",
    "mpDraw= mp.solutions.drawing_utils"
   ]
  },
  {
   "cell_type": "code",
   "execution_count": 10,
   "metadata": {},
   "outputs": [],
   "source": [
    "cap= cv2.VideoCapture(r\"../right_hand.mp4\")\n",
    "\n",
    "pTime=0\n",
    "\n",
    "while True:\n",
    "    success, img= cap.read()\n",
    "    imgRGB = cv2.cvtColor(img, cv2.COLOR_BGR2RGB)\n",
    "    \n",
    "    # we will write results, for detection of pose\n",
    "    results = pose.process(imgRGB)\n",
    "    #print(results.pose_landmarks)\n",
    "    # draw landmarks, shows x y z coridnates and visisbility \n",
    "    \n",
    "    if results.pose_landmarks:\n",
    "        \n",
    "        mpDraw.draw_landmarks(img, results.pose_landmarks\n",
    "                             , mpPose.POSE_CONNECTIONS)\n",
    "        \n",
    "    \n",
    "    \n",
    "    \n",
    "    \n",
    "    cTime=time.time()\n",
    "    \n",
    "    fps = 1/(cTime-pTime)\n",
    "    pTime= cTime\n",
    "    cv2.putText(img, str(int(fps)), (70,50), \n",
    "                cv2.FONT_HERSHEY_COMPLEX,3 , (255,0,0),3)\n",
    "    cv2.imshow(\"results\",img)\n",
    "    \n",
    "    if cv2.waitKey(10) & 0xFF == ord('q'):\n",
    "        break\n",
    "cap.release()\n",
    "\n",
    "cv2.destroyAllWindows()"
   ]
  },
  {
   "cell_type": "code",
   "execution_count": null,
   "metadata": {},
   "outputs": [],
   "source": []
  }
 ],
 "metadata": {
  "kernelspec": {
   "display_name": "Python 3",
   "language": "python",
   "name": "python3"
  },
  "language_info": {
   "codemirror_mode": {
    "name": "ipython",
    "version": 3
   },
   "file_extension": ".py",
   "mimetype": "text/x-python",
   "name": "python",
   "nbconvert_exporter": "python",
   "pygments_lexer": "ipython3",
   "version": "3.6.7"
  }
 },
 "nbformat": 4,
 "nbformat_minor": 2
}
